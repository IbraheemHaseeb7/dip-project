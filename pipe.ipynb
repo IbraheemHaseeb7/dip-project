{
 "cells": [
  {
   "cell_type": "code",
   "execution_count": 1,
   "id": "4612754c",
   "metadata": {
    "execution": {
     "iopub.execute_input": "2024-04-16T15:13:58.836266Z",
     "iopub.status.busy": "2024-04-16T15:13:58.834264Z",
     "iopub.status.idle": "2024-04-16T15:13:58.855119Z",
     "shell.execute_reply": "2024-04-16T15:13:58.853098Z"
    },
    "papermill": {
     "duration": 0.03285,
     "end_time": "2024-04-16T15:13:58.859124",
     "exception": false,
     "start_time": "2024-04-16T15:13:58.826274",
     "status": "completed"
    },
    "tags": [
     "injected-parameters"
    ]
   },
   "outputs": [],
   "source": [
    "# Parameters\n",
    "input_filename = \"./brain_tumor_dataset/yes/Y1.JPG\"\n",
    "output_filename = \"Y1.JPG\"\n"
   ]
  },
  {
   "cell_type": "code",
   "execution_count": 2,
   "id": "c418c656",
   "metadata": {
    "execution": {
     "iopub.execute_input": "2024-04-16T15:13:58.872119Z",
     "iopub.status.busy": "2024-04-16T15:13:58.871116Z",
     "iopub.status.idle": "2024-04-16T15:13:59.025142Z",
     "shell.execute_reply": "2024-04-16T15:13:59.024130Z"
    },
    "papermill": {
     "duration": 0.162022,
     "end_time": "2024-04-16T15:13:59.027141",
     "exception": false,
     "start_time": "2024-04-16T15:13:58.865119",
     "status": "completed"
    },
    "tags": []
   },
   "outputs": [],
   "source": [
    "import cv2\n",
    "import numpy as np\n"
   ]
  },
  {
   "cell_type": "markdown",
   "id": "b0f16dfb",
   "metadata": {},
   "source": [
    "## Sharpening\n",
    "\n",
    "Adding sharpening based on image size..................."
   ]
  },
  {
   "cell_type": "code",
   "execution_count": 3,
   "id": "4edc1813",
   "metadata": {
    "execution": {
     "iopub.execute_input": "2024-04-16T15:13:59.034143Z",
     "iopub.status.busy": "2024-04-16T15:13:59.033141Z",
     "iopub.status.idle": "2024-04-16T15:13:59.039798Z",
     "shell.execute_reply": "2024-04-16T15:13:59.038781Z"
    },
    "papermill": {
     "duration": 0.011655,
     "end_time": "2024-04-16T15:13:59.040796",
     "exception": false,
     "start_time": "2024-04-16T15:13:59.029141",
     "status": "completed"
    },
    "tags": []
   },
   "outputs": [],
   "source": [
    "def sharpen_image(image):\n",
    "    filter = np.array([[0, -1, 0],\n",
    "                       [-1, 5, -1],\n",
    "                       [0, -1, 0]])\n",
    "\n",
    "    sharpened_image = cv2.filter2D(image, -1, filter)\n",
    "\n",
    "    return sharpened_image"
   ]
  },
  {
   "cell_type": "code",
   "execution_count": 4,
   "id": "91feebb7",
   "metadata": {
    "execution": {
     "iopub.execute_input": "2024-04-16T15:13:59.047796Z",
     "iopub.status.busy": "2024-04-16T15:13:59.047796Z",
     "iopub.status.idle": "2024-04-16T15:13:59.062622Z",
     "shell.execute_reply": "2024-04-16T15:13:59.061605Z"
    },
    "papermill": {
     "duration": 0.019825,
     "end_time": "2024-04-16T15:13:59.063619",
     "exception": false,
     "start_time": "2024-04-16T15:13:59.043794",
     "status": "completed"
    },
    "tags": []
   },
   "outputs": [],
   "source": [
    "image = cv2.imread(input_filename)\n",
    "sharpened_image = sharpen_image(image)\n"
   ]
  },
  {
   "cell_type": "code",
   "execution_count": 5,
   "id": "b5a2bed4",
   "metadata": {
    "execution": {
     "iopub.execute_input": "2024-04-16T15:13:59.070971Z",
     "iopub.status.busy": "2024-04-16T15:13:59.069628Z",
     "iopub.status.idle": "2024-04-16T15:13:59.077832Z",
     "shell.execute_reply": "2024-04-16T15:13:59.076809Z"
    },
    "papermill": {
     "duration": 0.013209,
     "end_time": "2024-04-16T15:13:59.079828",
     "exception": false,
     "start_time": "2024-04-16T15:13:59.066619",
     "status": "completed"
    },
    "tags": []
   },
   "outputs": [],
   "source": [
    "gray_image = cv2.cvtColor(image, cv2.COLOR_BGR2GRAY)\n",
    "_, mask = cv2.threshold(gray_image, 200, 255, cv2.THRESH_BINARY_INV)"
   ]
  },
  {
   "cell_type": "code",
   "execution_count": 6,
   "id": "4ad03e30",
   "metadata": {
    "execution": {
     "iopub.execute_input": "2024-04-16T15:13:59.085824Z",
     "iopub.status.busy": "2024-04-16T15:13:59.085824Z",
     "iopub.status.idle": "2024-04-16T15:13:59.097329Z",
     "shell.execute_reply": "2024-04-16T15:13:59.097329Z"
    },
    "papermill": {
     "duration": 0.017511,
     "end_time": "2024-04-16T15:13:59.099339",
     "exception": false,
     "start_time": "2024-04-16T15:13:59.081828",
     "status": "completed"
    },
    "tags": []
   },
   "outputs": [
    {
     "data": {
      "text/plain": [
       "-1"
      ]
     },
     "execution_count": 6,
     "metadata": {},
     "output_type": "execute_result"
    }
   ],
   "source": [
    "# Apply the mask on the image\n",
    "masked_image = cv2.bitwise_and(image, image, mask=mask)\n",
    "cv2.imshow(\"Masked Image\",masked_image)\n",
    "cv2.waitKey(0)\n",
    "# cv2.imwrite(f\"./results/{output_filename}\", masked_image)\n"
   ]
  }
 ],
 "metadata": {
  "kernelspec": {
   "display_name": "Python 3",
   "language": "python",
   "name": "python3"
  },
  "language_info": {
   "codemirror_mode": {
    "name": "ipython",
    "version": 3
   },
   "file_extension": ".py",
   "mimetype": "text/x-python",
   "name": "python",
   "nbconvert_exporter": "python",
   "pygments_lexer": "ipython3",
   "version": "3.11.9"
  },
  "papermill": {
   "default_parameters": {},
   "duration": 5.129301,
   "end_time": "2024-04-16T15:14:02.137919",
   "environment_variables": {},
   "exception": null,
   "input_path": "./pipe.ipynb",
   "output_path": "./pipe.ipynb",
   "parameters": {
    "input_filename": "./brain_tumor_dataset/yes/Y99.JPG",
    "output_filename": "Y99.JPG"
   },
   "start_time": "2024-04-16T15:13:57.008618",
   "version": "2.5.0"
  }
 },
 "nbformat": 4,
 "nbformat_minor": 5
}
